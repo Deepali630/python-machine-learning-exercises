{
 "cells": [
  {
   "cell_type": "markdown",
   "id": "0a794fb3",
   "metadata": {},
   "source": [
    "### Q1. WHAT IS THE RESULT?\n"
   ]
  },
  {
   "cell_type": "code",
   "execution_count": 5,
   "id": "5f5b0065",
   "metadata": {},
   "outputs": [
    {
     "name": "stdout",
     "output_type": "stream",
     "text": [
      "5.0\n"
     ]
    }
   ],
   "source": [
    "x=8\n",
    "y=10\n",
    "result = x//3*3/2+y%2**2\n",
    "print(result)"
   ]
  },
  {
   "cell_type": "markdown",
   "id": "3216eb3f",
   "metadata": {},
   "source": [
    "### Q2. print correct statement to congratulate "
   ]
  },
  {
   "cell_type": "code",
   "execution_count": 7,
   "id": "1d05b42f",
   "metadata": {},
   "outputs": [
    {
     "name": "stdout",
     "output_type": "stream",
     "text": [
      "How old were you at the time of joining? 28\n",
      "How old r you today?42\n",
      "Congratulation14years of service\n"
     ]
    }
   ],
   "source": [
    "start=input(\"How old were you at the time of joining? \")\n",
    "end=input(\"How old r you today?\")\n",
    "print(\"Congratulation \"+ str(int(end)-int(start)) + \" years of service\")"
   ]
  },
  {
   "cell_type": "markdown",
   "id": "28c7bafa",
   "metadata": {},
   "source": [
    "### Q3 print 'CAT'"
   ]
  },
  {
   "cell_type": "code",
   "execution_count": 8,
   "id": "c4fa54bc",
   "metadata": {},
   "outputs": [
    {
     "name": "stdout",
     "output_type": "stream",
     "text": [
      "CAT\n"
     ]
    }
   ],
   "source": [
    "x='APRICOT'\n",
    "y='APPLE'\n",
    "z='TOMATO'\n",
    "print(x[4]+y[0]+z[4])"
   ]
  },
  {
   "cell_type": "markdown",
   "id": "e0d02346",
   "metadata": {},
   "source": [
    "### Q4 print true condition"
   ]
  },
  {
   "cell_type": "code",
   "execution_count": 12,
   "id": "39a3ecd9",
   "metadata": {},
   "outputs": [
    {
     "name": "stdout",
     "output_type": "stream",
     "text": [
      "True\n"
     ]
    }
   ],
   "source": [
    "x='Durga'\n",
    "y='Durga'\n",
    "result=x is y\n",
    "print(result)"
   ]
  },
  {
   "cell_type": "markdown",
   "id": "f66c98d2",
   "metadata": {},
   "source": [
    "### Q5"
   ]
  },
  {
   "cell_type": "code",
   "execution_count": 17,
   "id": "53e21785",
   "metadata": {},
   "outputs": [
    {
     "name": "stdout",
     "output_type": "stream",
     "text": [
      "101010\n"
     ]
    },
    {
     "data": {
      "text/plain": [
       "str"
      ]
     },
     "execution_count": 17,
     "metadata": {},
     "output_type": "execute_result"
    }
   ],
   "source": [
    "#code segment 1\n",
    "a1='10'\n",
    "b1= 3\n",
    "c1= a1*b1\n",
    "print(c1)\n",
    "type(c1)"
   ]
  },
  {
   "cell_type": "code",
   "execution_count": 20,
   "id": "3631ee2e",
   "metadata": {},
   "outputs": [
    {
     "name": "stdout",
     "output_type": "stream",
     "text": [
      "3.3333333333333335\n"
     ]
    },
    {
     "data": {
      "text/plain": [
       "float"
      ]
     },
     "execution_count": 20,
     "metadata": {},
     "output_type": "execute_result"
    }
   ],
   "source": [
    "#code segment 2\n",
    "a2=10\n",
    "b2= 3\n",
    "c2= a2/b2\n",
    "print(c2)\n",
    "type(c2)"
   ]
  },
  {
   "cell_type": "code",
   "execution_count": 19,
   "id": "849aa202",
   "metadata": {},
   "outputs": [
    {
     "name": "stdout",
     "output_type": "stream",
     "text": [
      "2.6\n"
     ]
    },
    {
     "data": {
      "text/plain": [
       "float"
      ]
     },
     "execution_count": 19,
     "metadata": {},
     "output_type": "execute_result"
    }
   ],
   "source": [
    "#code segment 3\n",
    "a3= 2.6\n",
    "b3= 1\n",
    "c3= a3/b3\n",
    "print(c3)\n",
    "type(c3)"
   ]
  },
  {
   "cell_type": "markdown",
   "id": "b5a225ba",
   "metadata": {},
   "source": [
    "### Q6\n"
   ]
  },
  {
   "cell_type": "code",
   "execution_count": 21,
   "id": "881bb7c3",
   "metadata": {},
   "outputs": [
    {
     "data": {
      "text/plain": [
       "3"
      ]
     },
     "execution_count": 21,
     "metadata": {},
     "output_type": "execute_result"
    }
   ],
   "source": [
    "13//4\n"
   ]
  },
  {
   "cell_type": "code",
   "execution_count": 22,
   "id": "14d2dc38",
   "metadata": {},
   "outputs": [
    {
     "data": {
      "text/plain": [
       "3"
      ]
     },
     "execution_count": 22,
     "metadata": {},
     "output_type": "execute_result"
    }
   ],
   "source": [
    "3**1\n"
   ]
  },
  {
   "cell_type": "code",
   "execution_count": 23,
   "id": "9222906c",
   "metadata": {},
   "outputs": [
    {
     "data": {
      "text/plain": [
       "3"
      ]
     },
     "execution_count": 23,
     "metadata": {},
     "output_type": "execute_result"
    }
   ],
   "source": [
    "23%5"
   ]
  },
  {
   "cell_type": "markdown",
   "id": "fcb625af",
   "metadata": {},
   "source": [
    "### Q7"
   ]
  },
  {
   "cell_type": "code",
   "execution_count": 26,
   "id": "8f5fc545",
   "metadata": {},
   "outputs": [
    {
     "name": "stdout",
     "output_type": "stream",
     "text": [
      "False\n",
      "True\n"
     ]
    }
   ],
   "source": [
    "n1=[10,20,30,40,50]\n",
    "n2=[10,20,30,40,50]\n",
    "print(n1 is n2)            # 'is' operator for reference  comparision\n",
    "print(n1 == n2)            # '==' operator for values  comparision\n"
   ]
  },
  {
   "cell_type": "markdown",
   "id": "ab21a999",
   "metadata": {},
   "source": [
    "### Q8"
   ]
  },
  {
   "cell_type": "markdown",
   "id": "f5ece66f",
   "metadata": {},
   "source": [
    "### Find the output"
   ]
  },
  {
   "cell_type": "code",
   "execution_count": 6,
   "id": "9eaf86ba",
   "metadata": {},
   "outputs": [],
   "source": [
    "a=1\n",
    "b=3\n",
    "c=5\n",
    "d=7\n"
   ]
  },
  {
   "cell_type": "code",
   "execution_count": 12,
   "id": "bbe3aaee",
   "metadata": {},
   "outputs": [
    {
     "data": {
      "text/plain": [
       "1"
      ]
     },
     "execution_count": 12,
     "metadata": {},
     "output_type": "execute_result"
    }
   ],
   "source": [
    "a1=a-b//d\n",
    "a1\n"
   ]
  },
  {
   "cell_type": "code",
   "execution_count": 8,
   "id": "8afac0e7",
   "metadata": {},
   "outputs": [
    {
     "data": {
      "text/plain": [
       "0"
      ]
     },
     "execution_count": 8,
     "metadata": {},
     "output_type": "execute_result"
    }
   ],
   "source": [
    "a2=a**d-1\n",
    "a2"
   ]
  },
  {
   "cell_type": "code",
   "execution_count": 10,
   "id": "9c7dbfe2",
   "metadata": {},
   "outputs": [
    {
     "data": {
      "text/plain": [
       "0"
      ]
     },
     "execution_count": 10,
     "metadata": {},
     "output_type": "execute_result"
    }
   ],
   "source": [
    "a%b-1"
   ]
  },
  {
   "cell_type": "markdown",
   "id": "7af05509",
   "metadata": {},
   "source": [
    "### Q9 code"
   ]
  },
  {
   "cell_type": "code",
   "execution_count": 13,
   "id": "0ed9ab87",
   "metadata": {},
   "outputs": [],
   "source": [
    "s='AB CD'\n",
    "list=list(s)"
   ]
  },
  {
   "cell_type": "code",
   "execution_count": 14,
   "id": "0692ed84",
   "metadata": {},
   "outputs": [
    {
     "data": {
      "text/plain": [
       "['A', 'B', ' ', 'C', 'D']"
      ]
     },
     "execution_count": 14,
     "metadata": {},
     "output_type": "execute_result"
    }
   ],
   "source": [
    "list"
   ]
  },
  {
   "cell_type": "code",
   "execution_count": 16,
   "id": "9146847a",
   "metadata": {},
   "outputs": [],
   "source": [
    "list.append('E')"
   ]
  },
  {
   "cell_type": "code",
   "execution_count": 17,
   "id": "30560852",
   "metadata": {},
   "outputs": [
    {
     "data": {
      "text/plain": [
       "['A', 'B', ' ', 'C', 'D', 'E']"
      ]
     },
     "execution_count": 17,
     "metadata": {},
     "output_type": "execute_result"
    }
   ],
   "source": [
    "list"
   ]
  },
  {
   "cell_type": "markdown",
   "id": "12e8923a",
   "metadata": {},
   "source": [
    "### Q10 code\n"
   ]
  },
  {
   "cell_type": "code",
   "execution_count": 21,
   "id": "012bd5d8",
   "metadata": {},
   "outputs": [
    {
     "name": "stdout",
     "output_type": "stream",
     "text": [
      "True\n",
      "x= 25 y= 15.0\n",
      "Valid\n"
     ]
    }
   ],
   "source": [
    "a=5\n",
    "b=10\n",
    "c=2\n",
    "d=True\n",
    "print(d)\n",
    "e=b+d\n",
    "e\n",
    "x=a+b*c\n",
    "y=a+b/d\n",
    "print(\"x=\", x , \"y=\", y)       #x=25 y=15.0\n",
    "if(x>y):\n",
    "    print(\"Valid\")\n",
    "else:\n",
    "    print(\"invalid\")\n"
   ]
  },
  {
   "cell_type": "markdown",
   "id": "38fc9ead",
   "metadata": {},
   "source": [
    "### Q11"
   ]
  },
  {
   "cell_type": "code",
   "execution_count": 23,
   "id": "01e8e8d4",
   "metadata": {},
   "outputs": [
    {
     "name": "stdout",
     "output_type": "stream",
     "text": [
      "enter num134\n",
      "enter num122\n",
      "The result=56\n"
     ]
    }
   ],
   "source": [
    "x=input(\"enter num1 \")\n",
    "y=input(\"enter num2 \")\n",
    "print(\"The result=\"+str(int(x)+int(y)))\n"
   ]
  },
  {
   "cell_type": "markdown",
   "id": "74bcc455",
   "metadata": {},
   "source": [
    "### Q13"
   ]
  },
  {
   "cell_type": "code",
   "execution_count": 24,
   "id": "34cff3f1",
   "metadata": {},
   "outputs": [
    {
     "data": {
      "text/plain": [
       "float"
      ]
     },
     "execution_count": 24,
     "metadata": {},
     "output_type": "execute_result"
    }
   ],
   "source": [
    "w=62.4\n",
    "type(w)"
   ]
  },
  {
   "cell_type": "code",
   "execution_count": 26,
   "id": "fa6603fd",
   "metadata": {},
   "outputs": [
    {
     "data": {
      "text/plain": [
       "str"
      ]
     },
     "execution_count": 26,
     "metadata": {},
     "output_type": "execute_result"
    }
   ],
   "source": [
    "zip='dd'\n",
    "type(zip)"
   ]
  },
  {
   "cell_type": "code",
   "execution_count": 27,
   "id": "59fca1e5",
   "metadata": {},
   "outputs": [
    {
     "data": {
      "text/plain": [
       "float"
      ]
     },
     "execution_count": 27,
     "metadata": {},
     "output_type": "execute_result"
    }
   ],
   "source": [
    "value=+2E43\n",
    "type(value)"
   ]
  },
  {
   "cell_type": "markdown",
   "id": "540a0d42",
   "metadata": {},
   "source": [
    "### Q15"
   ]
  },
  {
   "cell_type": "code",
   "execution_count": 32,
   "id": "ae8e820d",
   "metadata": {},
   "outputs": [
    {
     "data": {
      "text/plain": [
       "True"
      ]
     },
     "execution_count": 32,
     "metadata": {},
     "output_type": "execute_result"
    }
   ],
   "source": [
    "a=bool([False])\n",
    "a"
   ]
  },
  {
   "cell_type": "code",
   "execution_count": 31,
   "id": "75a2aea2",
   "metadata": {},
   "outputs": [
    {
     "data": {
      "text/plain": [
       "True"
      ]
     },
     "execution_count": 31,
     "metadata": {},
     "output_type": "execute_result"
    }
   ],
   "source": [
    "b=bool(3)\n",
    "b"
   ]
  },
  {
   "cell_type": "code",
   "execution_count": 36,
   "id": "b8d4c46a",
   "metadata": {},
   "outputs": [
    {
     "data": {
      "text/plain": [
       "False"
      ]
     },
     "execution_count": 36,
     "metadata": {},
     "output_type": "execute_result"
    }
   ],
   "source": [
    "c=bool(\"\")\n",
    "c"
   ]
  },
  {
   "cell_type": "code",
   "execution_count": 34,
   "id": "0c599648",
   "metadata": {},
   "outputs": [
    {
     "data": {
      "text/plain": [
       "True"
      ]
     },
     "execution_count": 34,
     "metadata": {},
     "output_type": "execute_result"
    }
   ],
   "source": [
    "d=bool(' ')\n",
    "d\n"
   ]
  },
  {
   "cell_type": "code",
   "execution_count": 37,
   "id": "0948cb35",
   "metadata": {},
   "outputs": [
    {
     "data": {
      "text/plain": [
       "False"
      ]
     },
     "execution_count": 37,
     "metadata": {},
     "output_type": "execute_result"
    }
   ],
   "source": [
    "e=bool([])    #empty string,list,tuple,set,dict and range(0) are False\n",
    "e"
   ]
  },
  {
   "cell_type": "code",
   "execution_count": 38,
   "id": "101db320",
   "metadata": {},
   "outputs": [
    {
     "data": {
      "text/plain": [
       "False"
      ]
     },
     "execution_count": 38,
     "metadata": {},
     "output_type": "execute_result"
    }
   ],
   "source": [
    "f=bool(())\n",
    "f"
   ]
  },
  {
   "cell_type": "code",
   "execution_count": 40,
   "id": "57649e69",
   "metadata": {},
   "outputs": [
    {
     "data": {
      "text/plain": [
       "17"
      ]
     },
     "execution_count": 40,
     "metadata": {},
     "output_type": "execute_result"
    }
   ],
   "source": [
    "result=(2*(3+4)**2-(3**3)*3)\n",
    "result\n"
   ]
  },
  {
   "cell_type": "code",
   "execution_count": 41,
   "id": "ed10a455",
   "metadata": {},
   "outputs": [
    {
     "data": {
      "text/plain": [
       "49"
      ]
     },
     "execution_count": 41,
     "metadata": {},
     "output_type": "execute_result"
    }
   ],
   "source": [
    "(3+4)**2"
   ]
  },
  {
   "cell_type": "code",
   "execution_count": 43,
   "id": "5a15aaf4",
   "metadata": {},
   "outputs": [
    {
     "data": {
      "text/plain": [
       "81"
      ]
     },
     "execution_count": 43,
     "metadata": {},
     "output_type": "execute_result"
    }
   ],
   "source": [
    "(3**3)*3"
   ]
  },
  {
   "cell_type": "code",
   "execution_count": 1,
   "id": "b199193a",
   "metadata": {},
   "outputs": [
    {
     "data": {
      "text/plain": [
       "False"
      ]
     },
     "execution_count": 1,
     "metadata": {},
     "output_type": "execute_result"
    }
   ],
   "source": [
    "bool(0)"
   ]
  },
  {
   "cell_type": "code",
   "execution_count": 2,
   "id": "a32743ea",
   "metadata": {},
   "outputs": [
    {
     "data": {
      "text/plain": [
       "False"
      ]
     },
     "execution_count": 2,
     "metadata": {},
     "output_type": "execute_result"
    }
   ],
   "source": [
    "bool(0.0)"
   ]
  },
  {
   "cell_type": "code",
   "execution_count": 3,
   "id": "48372f1d",
   "metadata": {},
   "outputs": [
    {
     "data": {
      "text/plain": [
       "True"
      ]
     },
     "execution_count": 3,
     "metadata": {},
     "output_type": "execute_result"
    }
   ],
   "source": [
    "bool(0.4)"
   ]
  },
  {
   "cell_type": "markdown",
   "id": "87d5403d",
   "metadata": {},
   "source": [
    "### Q20"
   ]
  },
  {
   "cell_type": "code",
   "execution_count": 13,
   "id": "3bf55f9e",
   "metadata": {},
   "outputs": [],
   "source": [
    "emp= ['deep','san','dipa','rupa','sonu','r','y','e','u','d','m']"
   ]
  },
  {
   "cell_type": "code",
   "execution_count": 14,
   "id": "a38aaa6e",
   "metadata": {},
   "outputs": [
    {
     "data": {
      "text/plain": [
       "['deep', 'san', 'dipa', 'rupa', 'sonu', 'r', 'y', 'e', 'u', 'd', 'm']"
      ]
     },
     "execution_count": 14,
     "metadata": {},
     "output_type": "execute_result"
    }
   ],
   "source": [
    "emp"
   ]
  },
  {
   "cell_type": "code",
   "execution_count": 15,
   "id": "84b498ec",
   "metadata": {},
   "outputs": [
    {
     "data": {
      "text/plain": [
       "['deep', 'san', 'dipa', 'rupa', 'sonu', 'r', 'y', 'e']"
      ]
     },
     "execution_count": 15,
     "metadata": {},
     "output_type": "execute_result"
    }
   ],
   "source": [
    "emp[:-3]"
   ]
  },
  {
   "cell_type": "code",
   "execution_count": 16,
   "id": "f48ca7ed",
   "metadata": {},
   "outputs": [
    {
     "data": {
      "text/plain": [
       "['u', 'd', 'm']"
      ]
     },
     "execution_count": 16,
     "metadata": {},
     "output_type": "execute_result"
    }
   ],
   "source": [
    "emp[-3:]"
   ]
  },
  {
   "cell_type": "code",
   "execution_count": 17,
   "id": "790cedc5",
   "metadata": {},
   "outputs": [
    {
     "data": {
      "text/plain": [
       "11"
      ]
     },
     "execution_count": 17,
     "metadata": {},
     "output_type": "execute_result"
    }
   ],
   "source": [
    "len(emp)"
   ]
  },
  {
   "cell_type": "code",
   "execution_count": 18,
   "id": "10aea6bb",
   "metadata": {},
   "outputs": [
    {
     "data": {
      "text/plain": [
       "['u', 'd', 'm']"
      ]
     },
     "execution_count": 18,
     "metadata": {},
     "output_type": "execute_result"
    }
   ],
   "source": [
    "emp[8:]"
   ]
  },
  {
   "cell_type": "code",
   "execution_count": 19,
   "id": "988a8900",
   "metadata": {},
   "outputs": [
    {
     "data": {
      "text/plain": [
       "['u', 'd', 'm']"
      ]
     },
     "execution_count": 19,
     "metadata": {},
     "output_type": "execute_result"
    }
   ],
   "source": [
    "emp[8:11]"
   ]
  },
  {
   "cell_type": "markdown",
   "id": "d63a7ee0",
   "metadata": {},
   "source": [
    "### Q21"
   ]
  },
  {
   "cell_type": "code",
   "execution_count": 1,
   "id": "92ab308e",
   "metadata": {},
   "outputs": [],
   "source": [
    "sub=['java','python','c#']\n",
    "more_sub=['java','python','c#']\n",
    "sub=more_sub\n"
   ]
  },
  {
   "cell_type": "code",
   "execution_count": 2,
   "id": "432ee1df",
   "metadata": {},
   "outputs": [
    {
     "name": "stdout",
     "output_type": "stream",
     "text": [
      "False\n"
     ]
    }
   ],
   "source": [
    "print(sub in more_sub)"
   ]
  },
  {
   "cell_type": "code",
   "execution_count": 3,
   "id": "de54829e",
   "metadata": {},
   "outputs": [
    {
     "name": "stdout",
     "output_type": "stream",
     "text": [
      "True\n"
     ]
    }
   ],
   "source": [
    "print(sub is more_sub)"
   ]
  },
  {
   "cell_type": "code",
   "execution_count": 4,
   "id": "8d895b7f",
   "metadata": {},
   "outputs": [
    {
     "name": "stdout",
     "output_type": "stream",
     "text": [
      "True\n"
     ]
    }
   ],
   "source": [
    "print(sub == more_sub)"
   ]
  },
  {
   "cell_type": "markdown",
   "id": "7784f972",
   "metadata": {},
   "source": [
    "### Q22"
   ]
  },
  {
   "cell_type": "code",
   "execution_count": 5,
   "id": "50011c34",
   "metadata": {},
   "outputs": [
    {
     "data": {
      "text/plain": [
       "10"
      ]
     },
     "execution_count": 5,
     "metadata": {},
     "output_type": "execute_result"
    }
   ],
   "source": [
    "emp=['dp','pp','sp','aa','sp1','ff','aq','hh','aa','nm']\n",
    "len(emp)"
   ]
  },
  {
   "cell_type": "code",
   "execution_count": 6,
   "id": "d88d78b7",
   "metadata": {},
   "outputs": [
    {
     "data": {
      "text/plain": [
       "['dp', 'pp', 'sp', 'aa', 'sp1', 'ff', 'aq', 'hh', 'aa', 'nm']"
      ]
     },
     "execution_count": 6,
     "metadata": {},
     "output_type": "execute_result"
    }
   ],
   "source": [
    "emp[0:11]"
   ]
  },
  {
   "cell_type": "code",
   "execution_count": 9,
   "id": "73d43e3c",
   "metadata": {},
   "outputs": [
    {
     "data": {
      "text/plain": [
       "['pp', 'sp', 'aa', 'sp1', 'ff', 'aq', 'hh', 'aa', 'nm']"
      ]
     },
     "execution_count": 9,
     "metadata": {},
     "output_type": "execute_result"
    }
   ],
   "source": [
    "emp[1:10]"
   ]
  },
  {
   "cell_type": "code",
   "execution_count": 10,
   "id": "95b9ae0f",
   "metadata": {},
   "outputs": [
    {
     "data": {
      "text/plain": [
       "['dp', 'pp', 'sp', 'aa', 'sp1', 'ff', 'aq', 'hh', 'aa', 'nm']"
      ]
     },
     "execution_count": 10,
     "metadata": {},
     "output_type": "execute_result"
    }
   ],
   "source": [
    "emp[-10:10]"
   ]
  },
  {
   "cell_type": "code",
   "execution_count": 11,
   "id": "e1fd2c08",
   "metadata": {},
   "outputs": [
    {
     "data": {
      "text/plain": [
       "[]"
      ]
     },
     "execution_count": 11,
     "metadata": {},
     "output_type": "execute_result"
    }
   ],
   "source": [
    "emp[-1:1]          #slice operator never raises index error"
   ]
  },
  {
   "cell_type": "markdown",
   "id": "1e028738",
   "metadata": {},
   "source": [
    "### Q25"
   ]
  },
  {
   "cell_type": "code",
   "execution_count": 12,
   "id": "e00544d5",
   "metadata": {},
   "outputs": [
    {
     "data": {
      "text/plain": [
       "8"
      ]
     },
     "execution_count": 12,
     "metadata": {},
     "output_type": "execute_result"
    }
   ],
   "source": [
    "8//3*4"
   ]
  },
  {
   "cell_type": "code",
   "execution_count": 14,
   "id": "a42ca10f",
   "metadata": {},
   "outputs": [
    {
     "data": {
      "text/plain": [
       "10.666666666666666"
      ]
     },
     "execution_count": 14,
     "metadata": {},
     "output_type": "execute_result"
    }
   ],
   "source": [
    "8/3*4"
   ]
  },
  {
   "cell_type": "markdown",
   "id": "74f6e5e5",
   "metadata": {},
   "source": [
    "### Q26"
   ]
  },
  {
   "cell_type": "code",
   "execution_count": 31,
   "id": "d6574cc6",
   "metadata": {},
   "outputs": [
    {
     "name": "stdout",
     "output_type": "stream",
     "text": [
      "is\n",
      "2\n"
     ]
    }
   ],
   "source": [
    "s='python is easy'\n",
    "s1=s[6:-4]\n",
    "s1\n",
    "s2=s1.strip()   #removes spaces present at left and  right side of the string, lstrip(),rstrip()\n",
    "print(s2)\n",
    "print(len(s2))"
   ]
  },
  {
   "cell_type": "markdown",
   "id": "6af45ffb",
   "metadata": {},
   "source": [
    "### Q27"
   ]
  },
  {
   "cell_type": "code",
   "execution_count": 32,
   "id": "89769b51",
   "metadata": {},
   "outputs": [],
   "source": [
    "emp=['dp','pp','sp','aa','sp1','ff','aq','hh','aa','nm']\n"
   ]
  },
  {
   "cell_type": "code",
   "execution_count": 33,
   "id": "ab59ec17",
   "metadata": {},
   "outputs": [
    {
     "data": {
      "text/plain": [
       "['dp', 'pp', 'sp', 'aa', 'sp1', 'ff', 'aq']"
      ]
     },
     "execution_count": 33,
     "metadata": {},
     "output_type": "execute_result"
    }
   ],
   "source": [
    "emp[0:-3]"
   ]
  },
  {
   "cell_type": "code",
   "execution_count": 34,
   "id": "677a3f32",
   "metadata": {},
   "outputs": [
    {
     "data": {
      "text/plain": [
       "['dp', 'pp', 'sp', 'aa', 'sp1', 'ff', 'aq']"
      ]
     },
     "execution_count": 34,
     "metadata": {},
     "output_type": "execute_result"
    }
   ],
   "source": [
    "emp[:-3]"
   ]
  },
  {
   "cell_type": "code",
   "execution_count": 35,
   "id": "c25f75ed",
   "metadata": {},
   "outputs": [
    {
     "data": {
      "text/plain": [
       "['pp', 'sp', 'aa', 'sp1', 'ff', 'aq']"
      ]
     },
     "execution_count": 35,
     "metadata": {},
     "output_type": "execute_result"
    }
   ],
   "source": [
    "emp[1:-3]"
   ]
  },
  {
   "cell_type": "code",
   "execution_count": 36,
   "id": "32d40747",
   "metadata": {},
   "outputs": [
    {
     "data": {
      "text/plain": [
       "['pp', 'sp', 'aa', 'sp1', 'ff', 'aq', 'hh']"
      ]
     },
     "execution_count": 36,
     "metadata": {},
     "output_type": "execute_result"
    }
   ],
   "source": [
    "emp[1:-2]"
   ]
  },
  {
   "cell_type": "code",
   "execution_count": 37,
   "id": "4494b6c2",
   "metadata": {},
   "outputs": [
    {
     "data": {
      "text/plain": [
       "['dp', 'pp', 'sp', 'aa', 'sp1', 'ff', 'aq', 'hh']"
      ]
     },
     "execution_count": 37,
     "metadata": {},
     "output_type": "execute_result"
    }
   ],
   "source": [
    "emp[0:-2]"
   ]
  },
  {
   "cell_type": "markdown",
   "id": "8f4b3633",
   "metadata": {},
   "source": [
    "### Q29   print Boy   \\n   Cat   \\n Dog"
   ]
  },
  {
   "cell_type": "code",
   "execution_count": 38,
   "id": "2aed4c1e",
   "metadata": {},
   "outputs": [
    {
     "name": "stdout",
     "output_type": "stream",
     "text": [
      "Apple\n",
      "Boy\n",
      "Cat\n",
      "Dog\n"
     ]
    }
   ],
   "source": [
    "l=['Apple','Boy','Cat','Dog']\n",
    "for x in l:\n",
    "    print(x)"
   ]
  },
  {
   "cell_type": "code",
   "execution_count": 41,
   "id": "bee889af",
   "metadata": {},
   "outputs": [
    {
     "name": "stdout",
     "output_type": "stream",
     "text": [
      "Apple\n"
     ]
    }
   ],
   "source": [
    "l=['Apple','Boy','Cat','Dog']\n",
    "for x in l:\n",
    "    if len(x)!=3:\n",
    "         print(x)"
   ]
  },
  {
   "cell_type": "code",
   "execution_count": 42,
   "id": "806e9199",
   "metadata": {},
   "outputs": [
    {
     "name": "stdout",
     "output_type": "stream",
     "text": [
      "Boy\n",
      "Cat\n",
      "Dog\n"
     ]
    }
   ],
   "source": [
    "l=['Apple','Boy','Cat','Dog']\n",
    "for x in l:\n",
    "    if len(x)==3:\n",
    "         print(x)"
   ]
  },
  {
   "cell_type": "code",
   "execution_count": 46,
   "id": "520ba977",
   "metadata": {},
   "outputs": [
    {
     "name": "stdout",
     "output_type": "stream",
     "text": [
      "Boy\n",
      "Cat\n",
      "Dog\n"
     ]
    }
   ],
   "source": [
    "l=['Apple','Boy','Cat','Dog']\n",
    "l1=l[1:4]        #l1=l[1:]\n",
    "for x in l1:\n",
    "    #if len(x)!=3:\n",
    "         print(x)"
   ]
  },
  {
   "cell_type": "markdown",
   "id": "77941475",
   "metadata": {},
   "source": [
    "### Q31"
   ]
  },
  {
   "cell_type": "code",
   "execution_count": 48,
   "id": "144968ee",
   "metadata": {},
   "outputs": [
    {
     "data": {
      "text/plain": [
       "'Apple'"
      ]
     },
     "execution_count": 48,
     "metadata": {},
     "output_type": "execute_result"
    }
   ],
   "source": [
    "l=['Apple','Boy','Cat','Dog']\n",
    "l[0]"
   ]
  },
  {
   "cell_type": "code",
   "execution_count": 49,
   "id": "f598acef",
   "metadata": {},
   "outputs": [
    {
     "ename": "IndexError",
     "evalue": "list index out of range",
     "output_type": "error",
     "traceback": [
      "\u001b[1;31m---------------------------------------------------------------------------\u001b[0m",
      "\u001b[1;31mIndexError\u001b[0m                                Traceback (most recent call last)",
      "\u001b[1;32m~\\AppData\\Local\\Temp/ipykernel_9528/1005929356.py\u001b[0m in \u001b[0;36m<module>\u001b[1;34m\u001b[0m\n\u001b[0;32m      1\u001b[0m \u001b[0ml\u001b[0m\u001b[1;33m=\u001b[0m\u001b[1;33m[\u001b[0m\u001b[1;34m'Apple'\u001b[0m\u001b[1;33m,\u001b[0m\u001b[1;34m'Boy'\u001b[0m\u001b[1;33m,\u001b[0m\u001b[1;34m'Cat'\u001b[0m\u001b[1;33m,\u001b[0m\u001b[1;34m'Dog'\u001b[0m\u001b[1;33m]\u001b[0m\u001b[1;33m\u001b[0m\u001b[1;33m\u001b[0m\u001b[0m\n\u001b[1;32m----> 2\u001b[1;33m \u001b[0ml\u001b[0m\u001b[1;33m[\u001b[0m\u001b[1;36m4\u001b[0m\u001b[1;33m]\u001b[0m\u001b[1;33m\u001b[0m\u001b[1;33m\u001b[0m\u001b[0m\n\u001b[0m",
      "\u001b[1;31mIndexError\u001b[0m: list index out of range"
     ]
    }
   ],
   "source": [
    "l=['Apple','Boy','Cat','Dog']\n",
    "l[4]"
   ]
  },
  {
   "cell_type": "code",
   "execution_count": 50,
   "id": "9f02b97e",
   "metadata": {},
   "outputs": [
    {
     "data": {
      "text/plain": [
       "'Dog'"
      ]
     },
     "execution_count": 50,
     "metadata": {},
     "output_type": "execute_result"
    }
   ],
   "source": [
    "l[-1]"
   ]
  },
  {
   "cell_type": "code",
   "execution_count": 51,
   "id": "af49953f",
   "metadata": {},
   "outputs": [
    {
     "data": {
      "text/plain": [
       "'Dog'"
      ]
     },
     "execution_count": 51,
     "metadata": {},
     "output_type": "execute_result"
    }
   ],
   "source": [
    "l[-1]"
   ]
  },
  {
   "cell_type": "code",
   "execution_count": 52,
   "id": "d25042b3",
   "metadata": {},
   "outputs": [
    {
     "data": {
      "text/plain": [
       "'Apple'"
      ]
     },
     "execution_count": 52,
     "metadata": {},
     "output_type": "execute_result"
    }
   ],
   "source": [
    "l[-4]"
   ]
  },
  {
   "cell_type": "code",
   "execution_count": 53,
   "id": "511ceaac",
   "metadata": {},
   "outputs": [
    {
     "data": {
      "text/plain": [
       "'Dog'"
      ]
     },
     "execution_count": 53,
     "metadata": {},
     "output_type": "execute_result"
    }
   ],
   "source": [
    "l[-1]"
   ]
  },
  {
   "cell_type": "markdown",
   "id": "833162eb",
   "metadata": {},
   "source": [
    "### Q32"
   ]
  },
  {
   "cell_type": "code",
   "execution_count": 54,
   "id": "b8baf414",
   "metadata": {},
   "outputs": [],
   "source": [
    "a=1\n",
    "b=2\n",
    "c=4\n",
    "d=6\n"
   ]
  },
  {
   "cell_type": "code",
   "execution_count": 55,
   "id": "cd383674",
   "metadata": {},
   "outputs": [
    {
     "data": {
      "text/plain": [
       "0"
      ]
     },
     "execution_count": 55,
     "metadata": {},
     "output_type": "execute_result"
    }
   ],
   "source": [
    "(a+b)//c*d"
   ]
  },
  {
   "cell_type": "code",
   "execution_count": 56,
   "id": "e12be759",
   "metadata": {},
   "outputs": [
    {
     "data": {
      "text/plain": [
       "0"
      ]
     },
     "execution_count": 56,
     "metadata": {},
     "output_type": "execute_result"
    }
   ],
   "source": [
    "(b+c)//a%d"
   ]
  },
  {
   "cell_type": "code",
   "execution_count": 59,
   "id": "92129859",
   "metadata": {},
   "outputs": [
    {
     "data": {
      "text/plain": [
       "0"
      ]
     },
     "execution_count": 59,
     "metadata": {},
     "output_type": "execute_result"
    }
   ],
   "source": [
    "(a+b)//c%d"
   ]
  },
  {
   "cell_type": "code",
   "execution_count": 60,
   "id": "c18af163",
   "metadata": {},
   "outputs": [
    {
     "data": {
      "text/plain": [
       "-4"
      ]
     },
     "execution_count": 60,
     "metadata": {},
     "output_type": "execute_result"
    }
   ],
   "source": [
    "(a+b)//d-c"
   ]
  },
  {
   "cell_type": "code",
   "execution_count": 61,
   "id": "95764c24",
   "metadata": {},
   "outputs": [
    {
     "data": {
      "text/plain": [
       "0"
      ]
     },
     "execution_count": 61,
     "metadata": {},
     "output_type": "execute_result"
    }
   ],
   "source": [
    "3//6"
   ]
  },
  {
   "cell_type": "markdown",
   "id": "3c89cc1c",
   "metadata": {},
   "source": [
    "### Q33"
   ]
  },
  {
   "cell_type": "code",
   "execution_count": 66,
   "id": "18f2eb00",
   "metadata": {},
   "outputs": [
    {
     "name": "stdout",
     "output_type": "stream",
     "text": [
      "is easyeasy\n"
     ]
    }
   ],
   "source": [
    "s=\"Python is easy\"\n",
    "s1=s[-7:]\n",
    "s2=s[-4:]\n",
    "print(s1+s2)\n"
   ]
  },
  {
   "cell_type": "code",
   "execution_count": 67,
   "id": "af6b47ad",
   "metadata": {},
   "outputs": [
    {
     "name": "stdout",
     "output_type": "stream",
     "text": [
      "s easyeasy\n"
     ]
    }
   ],
   "source": [
    "s=\"Python is easy\"\n",
    "s1=s[-6:]\n",
    "s2=s[-4:]\n",
    "print(s1+s2)\n"
   ]
  },
  {
   "cell_type": "code",
   "execution_count": 68,
   "id": "73a4ea40",
   "metadata": {},
   "outputs": [
    {
     "name": "stdout",
     "output_type": "stream",
     "text": [
      "easyeasy\n"
     ]
    }
   ],
   "source": [
    "s=\"Python is easy\"\n",
    "s1=s[-4:]\n",
    "s2=s[-4:]\n",
    "print(s1+s2)\n"
   ]
  },
  {
   "cell_type": "code",
   "execution_count": 74,
   "id": "dccaff30",
   "metadata": {},
   "outputs": [
    {
     "name": "stdout",
     "output_type": "stream",
     "text": [
      "iseasyeasy\n"
     ]
    }
   ],
   "source": [
    "s=\"Python is easy\"\n",
    "s1=s[-7:-5]\n",
    "s2=s[-4:]\n",
    "s3=s[-4:]\n",
    "print(s1+s2+s3)\n"
   ]
  },
  {
   "cell_type": "code",
   "execution_count": 76,
   "id": "40fb9785",
   "metadata": {},
   "outputs": [
    {
     "name": "stdout",
     "output_type": "stream",
     "text": [
      "is easy easy\n"
     ]
    }
   ],
   "source": [
    "s=\"Python is easy\"\n",
    "s1=s[-7:]\n",
    "s2=s[-5:]\n",
    "\n",
    "print(s1+s2)\n"
   ]
  },
  {
   "cell_type": "markdown",
   "id": "dcbac149",
   "metadata": {},
   "source": [
    "### Q34    Order of Python Operator Precedence\n"
   ]
  },
  {
   "cell_type": "code",
   "execution_count": null,
   "id": "f1d2a989",
   "metadata": {},
   "outputs": [],
   "source": [
    "#Parenthesis ,Exponents,Unary Positive,Negative,Not,Multiplication , Division,Add,Sub,AND  \n"
   ]
  }
 ],
 "metadata": {
  "kernelspec": {
   "display_name": "Python 3 (ipykernel)",
   "language": "python",
   "name": "python3"
  },
  "language_info": {
   "codemirror_mode": {
    "name": "ipython",
    "version": 3
   },
   "file_extension": ".py",
   "mimetype": "text/x-python",
   "name": "python",
   "nbconvert_exporter": "python",
   "pygments_lexer": "ipython3",
   "version": "3.9.12"
  }
 },
 "nbformat": 4,
 "nbformat_minor": 5
}
