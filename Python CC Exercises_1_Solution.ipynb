{
 "cells": [
  {
   "cell_type": "markdown",
   "id": "2d3e89d9",
   "metadata": {},
   "source": [
    "# Solved Python Course Exercises 1"
   ]
  },
  {
   "cell_type": "markdown",
   "id": "ed49b77f",
   "metadata": {},
   "source": [
    "## Q1"
   ]
  },
  {
   "cell_type": "code",
   "execution_count": 22,
   "id": "ed0f4d8b",
   "metadata": {},
   "outputs": [
    {
     "data": {
      "text/plain": [
       "2401"
      ]
     },
     "execution_count": 22,
     "metadata": {},
     "output_type": "execute_result"
    }
   ],
   "source": [
    "7**4"
   ]
  },
  {
   "cell_type": "markdown",
   "id": "069d9c47",
   "metadata": {},
   "source": [
    "## Q2"
   ]
  },
  {
   "cell_type": "code",
   "execution_count": 2,
   "id": "d3ea8184",
   "metadata": {},
   "outputs": [],
   "source": [
    "##split the string  s=\"Hi there Yogesh!\""
   ]
  },
  {
   "cell_type": "code",
   "execution_count": 3,
   "id": "64202bf1",
   "metadata": {},
   "outputs": [],
   "source": [
    "s=\"Hi there Yogesh!\""
   ]
  },
  {
   "cell_type": "code",
   "execution_count": 4,
   "id": "2eb90b53",
   "metadata": {},
   "outputs": [
    {
     "data": {
      "text/plain": [
       "['Hi', 'there', 'Yogesh!']"
      ]
     },
     "execution_count": 4,
     "metadata": {},
     "output_type": "execute_result"
    }
   ],
   "source": [
    "s.split()"
   ]
  },
  {
   "cell_type": "markdown",
   "id": "47c0a44e",
   "metadata": {},
   "source": [
    "## Q3"
   ]
  },
  {
   "cell_type": "code",
   "execution_count": 2,
   "id": "be6dac02",
   "metadata": {},
   "outputs": [],
   "source": [
    "planet = \"Earth\"\n",
    "diameter = 12742\n"
   ]
  },
  {
   "cell_type": "code",
   "execution_count": 3,
   "id": "b70c713e",
   "metadata": {},
   "outputs": [
    {
     "data": {
      "text/plain": [
       "'the diameter of Earth is 12742 kilometer'"
      ]
     },
     "execution_count": 3,
     "metadata": {},
     "output_type": "execute_result"
    }
   ],
   "source": [
    "\"the diameter of {} is {} kilometer\".format(planet,diameter)\n"
   ]
  },
  {
   "cell_type": "markdown",
   "id": "c755c171",
   "metadata": {},
   "source": [
    "## Q4   Given this nested list, use indexing to grab the word \"hello\""
   ]
  },
  {
   "cell_type": "code",
   "execution_count": 2,
   "id": "73409891",
   "metadata": {},
   "outputs": [],
   "source": [
    "lst = [1,2,[3,4],[5,[100,200,['hello']],23,11],1,7]\n"
   ]
  },
  {
   "cell_type": "code",
   "execution_count": 3,
   "id": "141194ce",
   "metadata": {},
   "outputs": [
    {
     "data": {
      "text/plain": [
       "[1, 2, [3, 4], [5, [100, 200, ['hello']], 23, 11], 1, 7]"
      ]
     },
     "execution_count": 3,
     "metadata": {},
     "output_type": "execute_result"
    }
   ],
   "source": [
    "lst"
   ]
  },
  {
   "cell_type": "code",
   "execution_count": 4,
   "id": "e38d007c",
   "metadata": {},
   "outputs": [
    {
     "data": {
      "text/plain": [
       "[5, [100, 200, ['hello']], 23, 11]"
      ]
     },
     "execution_count": 4,
     "metadata": {},
     "output_type": "execute_result"
    }
   ],
   "source": [
    "lst[3]"
   ]
  },
  {
   "cell_type": "code",
   "execution_count": 5,
   "id": "98aad955",
   "metadata": {},
   "outputs": [
    {
     "data": {
      "text/plain": [
       "[100, 200, ['hello']]"
      ]
     },
     "execution_count": 5,
     "metadata": {},
     "output_type": "execute_result"
    }
   ],
   "source": [
    "lst[3][1]"
   ]
  },
  {
   "cell_type": "code",
   "execution_count": 6,
   "id": "c2c4d128",
   "metadata": {},
   "outputs": [
    {
     "data": {
      "text/plain": [
       "['hello']"
      ]
     },
     "execution_count": 6,
     "metadata": {},
     "output_type": "execute_result"
    }
   ],
   "source": [
    "lst[3][1][2]"
   ]
  },
  {
   "cell_type": "markdown",
   "id": "b92840ef",
   "metadata": {},
   "source": [
    "## Q5  ** Given this nested dictionary grab the word \"hello\". Be prepared, this will be annoying/tricky **"
   ]
  },
  {
   "cell_type": "code",
   "execution_count": 13,
   "id": "6fe01a1d",
   "metadata": {},
   "outputs": [],
   "source": [
    "d = {'k1':[1,2,3,{'tricky':['oh','man','inception',{'target':[1,2,3,'hello']}]}]}\n",
    "\n"
   ]
  },
  {
   "cell_type": "code",
   "execution_count": 14,
   "id": "a4165be8",
   "metadata": {},
   "outputs": [
    {
     "data": {
      "text/plain": [
       "[1,\n",
       " 2,\n",
       " 3,\n",
       " {'tricky': ['oh', 'man', 'inception', {'target': [1, 2, 3, 'hello']}]}]"
      ]
     },
     "execution_count": 14,
     "metadata": {},
     "output_type": "execute_result"
    }
   ],
   "source": [
    "d['k1']"
   ]
  },
  {
   "cell_type": "code",
   "execution_count": 19,
   "id": "aa1a213b",
   "metadata": {},
   "outputs": [
    {
     "data": {
      "text/plain": [
       "{'tricky': ['oh', 'man', 'inception', {'target': [1, 2, 3, 'hello']}]}"
      ]
     },
     "execution_count": 19,
     "metadata": {},
     "output_type": "execute_result"
    }
   ],
   "source": [
    "d['k1'][3]"
   ]
  },
  {
   "cell_type": "code",
   "execution_count": 20,
   "id": "a1846a72",
   "metadata": {},
   "outputs": [
    {
     "data": {
      "text/plain": [
       "{'target': [1, 2, 3, 'hello']}"
      ]
     },
     "execution_count": 20,
     "metadata": {},
     "output_type": "execute_result"
    }
   ],
   "source": [
    "d['k1'][3]['tricky'][3]"
   ]
  },
  {
   "cell_type": "code",
   "execution_count": 21,
   "id": "ece0d34d",
   "metadata": {},
   "outputs": [
    {
     "data": {
      "text/plain": [
       "'hello'"
      ]
     },
     "execution_count": 21,
     "metadata": {},
     "output_type": "execute_result"
    }
   ],
   "source": [
    "d['k1'][3]['tricky'][3]['target'][3]"
   ]
  },
  {
   "cell_type": "markdown",
   "id": "8dfce897",
   "metadata": {},
   "source": [
    "## Q6"
   ]
  },
  {
   "cell_type": "code",
   "execution_count": null,
   "id": "3898d5d4",
   "metadata": {},
   "outputs": [],
   "source": [
    "** What is the main difference between a tuple and a list? **"
   ]
  },
  {
   "cell_type": "code",
   "execution_count": null,
   "id": "6cc3a34a",
   "metadata": {},
   "outputs": [],
   "source": [
    "#TUPLE IS IMMUTABLE"
   ]
  },
  {
   "cell_type": "markdown",
   "id": "ff579a3c",
   "metadata": {},
   "source": [
    "### Q7 ** Create a function that grabs the email website domain from a string in the form: **\n",
    "\n",
    "### user@domain.com\n",
    "### So for example, passing \"user@domain.com\" would return: domain.com"
   ]
  },
  {
   "cell_type": "code",
   "execution_count": 8,
   "id": "5ec6213e",
   "metadata": {},
   "outputs": [],
   "source": [
    "def domsplit(s):\n",
    "    d=s.split('@')\n",
    "    print(d[1])"
   ]
  },
  {
   "cell_type": "code",
   "execution_count": 9,
   "id": "01c51fd3",
   "metadata": {},
   "outputs": [
    {
     "name": "stdout",
     "output_type": "stream",
     "text": [
      "gmail.com\n"
     ]
    }
   ],
   "source": [
    "domsplit('deepali.salapurkar@gmail.com')"
   ]
  },
  {
   "cell_type": "markdown",
   "id": "7682c48c",
   "metadata": {},
   "source": [
    "## OR"
   ]
  },
  {
   "cell_type": "code",
   "execution_count": 5,
   "id": "4afbacb2",
   "metadata": {},
   "outputs": [],
   "source": [
    "def my_fun2(email):\n",
    "    return email.split(\"@\")[-1]\n"
   ]
  },
  {
   "cell_type": "code",
   "execution_count": 6,
   "id": "189bfc67",
   "metadata": {},
   "outputs": [
    {
     "data": {
      "text/plain": [
       "'gmail.com'"
      ]
     },
     "execution_count": 6,
     "metadata": {},
     "output_type": "execute_result"
    }
   ],
   "source": [
    "my_fun2(\"deep@gmail.com\")"
   ]
  },
  {
   "cell_type": "markdown",
   "id": "054820fe",
   "metadata": {},
   "source": [
    "### Q8 : * Create a basic function that returns True if the word 'dog' is contained in the input string. Don't worry about edge cases like a punctuation being attached to the word dog, but do account for capitalization. **\n",
    "\n",
    "​"
   ]
  },
  {
   "cell_type": "code",
   "execution_count": 6,
   "id": "31eb8e7a",
   "metadata": {},
   "outputs": [],
   "source": [
    "def fun_dog(s):\n",
    "    if 'dog' in s.lower():\n",
    "        return True\n",
    "    else :\n",
    "        return False\n",
    "    "
   ]
  },
  {
   "cell_type": "code",
   "execution_count": 10,
   "id": "f54055dd",
   "metadata": {},
   "outputs": [
    {
     "data": {
      "text/plain": [
       "True"
      ]
     },
     "execution_count": 10,
     "metadata": {},
     "output_type": "execute_result"
    }
   ],
   "source": [
    "fun_dog(\"Is there a DOGCAT?\")"
   ]
  },
  {
   "cell_type": "code",
   "execution_count": 8,
   "id": "df223fe8",
   "metadata": {},
   "outputs": [
    {
     "data": {
      "text/plain": [
       "True"
      ]
     },
     "execution_count": 8,
     "metadata": {},
     "output_type": "execute_result"
    }
   ],
   "source": [
    "fun_dog(\"Is there a Dog?\")"
   ]
  },
  {
   "cell_type": "markdown",
   "id": "7aae30a5",
   "metadata": {},
   "source": [
    "### Q9 ** Create a function that counts the number of times the word \"dog\" occurs in a string. Again ignore edge cases. **"
   ]
  },
  {
   "cell_type": "code",
   "execution_count": 24,
   "id": "c4c31ac3",
   "metadata": {},
   "outputs": [],
   "source": [
    "def fun_dog_count(s):\n",
    "    c=0\n",
    "    for i in s.lower().split():\n",
    "        if  i== 'dog':\n",
    "            c=c+1\n",
    "    return c    "
   ]
  },
  {
   "cell_type": "code",
   "execution_count": 34,
   "id": "cbe8fc08",
   "metadata": {},
   "outputs": [
    {
     "data": {
      "text/plain": [
       "2"
      ]
     },
     "execution_count": 34,
     "metadata": {},
     "output_type": "execute_result"
    }
   ],
   "source": [
    "fun_dog_count('how many real dog as dog , dogg are here?')"
   ]
  },
  {
   "cell_type": "code",
   "execution_count": 27,
   "id": "28329bcb",
   "metadata": {},
   "outputs": [],
   "source": [
    "def find_dog(s):\n",
    "    if 'dog' in s:\n",
    "        return True\n",
    "    else:\n",
    "        return  False"
   ]
  },
  {
   "cell_type": "code",
   "execution_count": 28,
   "id": "064fc656",
   "metadata": {},
   "outputs": [
    {
     "data": {
      "text/plain": [
       "True"
      ]
     },
     "execution_count": 28,
     "metadata": {},
     "output_type": "execute_result"
    }
   ],
   "source": [
    "find_dog(\"is dog there?\")\n"
   ]
  },
  {
   "cell_type": "code",
   "execution_count": 57,
   "id": "59fdb500",
   "metadata": {},
   "outputs": [],
   "source": [
    "def find_dog(s):\n",
    "    if 'dog' in s.lower().split():\n",
    "        return True\n",
    "    else:\n",
    "        return  False"
   ]
  },
  {
   "cell_type": "code",
   "execution_count": 58,
   "id": "10568f21",
   "metadata": {},
   "outputs": [
    {
     "data": {
      "text/plain": [
       "True"
      ]
     },
     "execution_count": 58,
     "metadata": {},
     "output_type": "execute_result"
    }
   ],
   "source": [
    "find_dog('this is Dog')"
   ]
  },
  {
   "cell_type": "code",
   "execution_count": 59,
   "id": "ac3fe7c9",
   "metadata": {},
   "outputs": [],
   "source": [
    "def find_dog(s):\n",
    "    return 'dog' in s.lower().split()\n",
    "       "
   ]
  },
  {
   "cell_type": "code",
   "execution_count": 60,
   "id": "8cafbcb7",
   "metadata": {},
   "outputs": [
    {
     "data": {
      "text/plain": [
       "True"
      ]
     },
     "execution_count": 60,
     "metadata": {},
     "output_type": "execute_result"
    }
   ],
   "source": [
    "find_dog('this is Dog')"
   ]
  },
  {
   "cell_type": "code",
   "execution_count": 61,
   "id": "617e6e95",
   "metadata": {},
   "outputs": [],
   "source": [
    "def find_dog(s):\n",
    "    return 'dog' in s.lower()\n",
    "       "
   ]
  },
  {
   "cell_type": "code",
   "execution_count": 62,
   "id": "f244d47d",
   "metadata": {},
   "outputs": [
    {
     "data": {
      "text/plain": [
       "True"
      ]
     },
     "execution_count": 62,
     "metadata": {},
     "output_type": "execute_result"
    }
   ],
   "source": [
    "find_dog('dog!!!')"
   ]
  },
  {
   "cell_type": "code",
   "execution_count": 63,
   "id": "4533af84",
   "metadata": {},
   "outputs": [],
   "source": [
    "def find_dog(s):\n",
    "    return 'dog' in s.lower().split()\n",
    "       "
   ]
  },
  {
   "cell_type": "code",
   "execution_count": 64,
   "id": "686f6701",
   "metadata": {},
   "outputs": [
    {
     "data": {
      "text/plain": [
       "False"
      ]
     },
     "execution_count": 64,
     "metadata": {},
     "output_type": "execute_result"
    }
   ],
   "source": [
    "find_dog('Dogg')"
   ]
  },
  {
   "cell_type": "code",
   "execution_count": 21,
   "id": "b6a3758e",
   "metadata": {},
   "outputs": [],
   "source": [
    "def count_dog(s):\n",
    "    c=0\n",
    "    for i in s.lower().split()\n",
    "        if i == 'dog':\n",
    "            c=c+1\n",
    "    return c\n"
   ]
  },
  {
   "cell_type": "code",
   "execution_count": 23,
   "id": "9b20797f",
   "metadata": {},
   "outputs": [
    {
     "data": {
      "text/plain": [
       "3"
      ]
     },
     "execution_count": 23,
     "metadata": {},
     "output_type": "execute_result"
    }
   ],
   "source": [
    "count_dog(\"how many time the dog present in dog string dog\")"
   ]
  },
  {
   "cell_type": "code",
   "execution_count": 74,
   "id": "b667e187",
   "metadata": {},
   "outputs": [],
   "source": [
    "def count_dog1(s):\n",
    "    count=0\n",
    "    for i in s.lower().split():\n",
    "        if i=='dog':\n",
    "            count=count+1\n",
    "    return count\n"
   ]
  },
  {
   "cell_type": "code",
   "execution_count": 75,
   "id": "d7872a83",
   "metadata": {},
   "outputs": [
    {
     "data": {
      "text/plain": [
       "3"
      ]
     },
     "execution_count": 75,
     "metadata": {},
     "output_type": "execute_result"
    }
   ],
   "source": [
    "count_dog1('this dog that Dog dog')"
   ]
  },
  {
   "cell_type": "markdown",
   "id": "235ee0ef",
   "metadata": {},
   "source": [
    "### Q10 Use lambda expressions and the filter() function to filter out words from a list that don't start with the letter 's'. For example:**\n",
    "\n",
    "seq = ['soup','dog','salad','cat','great']\n",
    "should be filtered down to:\n",
    "\n",
    "['soup','salad']"
   ]
  },
  {
   "cell_type": "code",
   "execution_count": 1,
   "id": "5315aee2",
   "metadata": {},
   "outputs": [],
   "source": [
    "seq1=['tiger','lion','dog','cat','donkey','deer']"
   ]
  },
  {
   "cell_type": "code",
   "execution_count": 2,
   "id": "98a15d1d",
   "metadata": {},
   "outputs": [
    {
     "data": {
      "text/plain": [
       "['tiger', 'lion', 'dog', 'cat', 'donkey', 'deer']"
      ]
     },
     "execution_count": 2,
     "metadata": {},
     "output_type": "execute_result"
    }
   ],
   "source": [
    "seq1"
   ]
  },
  {
   "cell_type": "code",
   "execution_count": 3,
   "id": "173b6ee4",
   "metadata": {},
   "outputs": [],
   "source": [
    "d=lambda v:v[0]!= 'd'"
   ]
  },
  {
   "cell_type": "code",
   "execution_count": 4,
   "id": "18048600",
   "metadata": {},
   "outputs": [
    {
     "data": {
      "text/plain": [
       "<function __main__.<lambda>(v)>"
      ]
     },
     "execution_count": 4,
     "metadata": {},
     "output_type": "execute_result"
    }
   ],
   "source": [
    "d"
   ]
  },
  {
   "cell_type": "code",
   "execution_count": 5,
   "id": "2259f36b",
   "metadata": {},
   "outputs": [
    {
     "data": {
      "text/plain": [
       "[True, True, False, True, False, False]"
      ]
     },
     "execution_count": 5,
     "metadata": {},
     "output_type": "execute_result"
    }
   ],
   "source": [
    "list(map(d,seq1))"
   ]
  },
  {
   "cell_type": "code",
   "execution_count": 6,
   "id": "4f85d86b",
   "metadata": {},
   "outputs": [
    {
     "data": {
      "text/plain": [
       "<filter at 0x1f2b1779070>"
      ]
     },
     "execution_count": 6,
     "metadata": {},
     "output_type": "execute_result"
    }
   ],
   "source": [
    "filter(d,seq1)"
   ]
  },
  {
   "cell_type": "code",
   "execution_count": 7,
   "id": "fc2d7997",
   "metadata": {},
   "outputs": [
    {
     "data": {
      "text/plain": [
       "['tiger', 'lion', 'cat']"
      ]
     },
     "execution_count": 7,
     "metadata": {},
     "output_type": "execute_result"
    }
   ],
   "source": [
    "list(filter(d,seq1))"
   ]
  },
  {
   "cell_type": "markdown",
   "id": "8830d312",
   "metadata": {},
   "source": [
    "### Q11 Final Problem\n",
    "*You are driving a little too fast, and a police officer stops you. Write a function to return one of 3 possible results: \"No ticket\", \"Small ticket\", or \"Big Ticket\". If your speed is 60 or less, the result is \"No Ticket\". If speed is between 61 and 80 inclusive, the result is \"Small Ticket\". If speed is 81 or more, the result is \"Big Ticket\". Unless it is your birthday (encoded as a boolean value in the parameters of the function) -- on your birthday, your speed can be 5 higher in all cases. *"
   ]
  },
  {
   "cell_type": "code",
   "execution_count": 85,
   "id": "bc43bb0f",
   "metadata": {},
   "outputs": [],
   "source": [
    "def pay_ticket(speed,birthday):\n",
    "    if birthday== True:\n",
    "        #speed+=5\n",
    "        if speed <=65:\n",
    "            return \"No Ticket\"\n",
    "        elif speed >65 and speed <85 :\n",
    "            return \"Small Ticket\"\n",
    "        else:\n",
    "            return \"Big Ticket\"\n",
    "    else:\n",
    "        if speed<=60 :\n",
    "            return \"No Ticket\"\n",
    "        elif speed >=61 and speed<81 :\n",
    "            return \"Small Ticket\"\n",
    "        else:\n",
    "            return \"Big Ticket\"\n",
    "        "
   ]
  },
  {
   "cell_type": "code",
   "execution_count": 98,
   "id": "3b8e9ee4",
   "metadata": {},
   "outputs": [
    {
     "data": {
      "text/plain": [
       "'Small Ticket'"
      ]
     },
     "execution_count": 98,
     "metadata": {},
     "output_type": "execute_result"
    }
   ],
   "source": [
    "pay_ticket(81,True)"
   ]
  },
  {
   "cell_type": "markdown",
   "id": "b809382f",
   "metadata": {},
   "source": [
    "### Q12\n",
    "Given a string print number num by extracting all the\n",
    "digits from the string as in string\n",
    "Print negative number if the first character in \n",
    "string is '-'\n",
    "eg.\n",
    "-123abcd should return -123,abcd456-->456,fdhfh78dsd89--->7889,-56dssd78-->5678"
   ]
  },
  {
   "cell_type": "code",
   "execution_count": 12,
   "id": "0d72b43a",
   "metadata": {},
   "outputs": [
    {
     "name": "stdout",
     "output_type": "stream",
     "text": [
      "Deepali23\n"
     ]
    },
    {
     "data": {
      "text/plain": [
       "str"
      ]
     },
     "execution_count": 12,
     "metadata": {},
     "output_type": "execute_result"
    }
   ],
   "source": [
    "s=\"Deepali23\"\n",
    "print(s)\n",
    "type(s)"
   ]
  },
  {
   "cell_type": "code",
   "execution_count": 5,
   "id": "957a64f1",
   "metadata": {},
   "outputs": [
    {
     "name": "stdout",
     "output_type": "stream",
     "text": [
      "Enter the stringdeepali34-fds22\n",
      " 3422\n"
     ]
    }
   ],
   "source": [
    "s=input(\"Enter the string\")\n",
    "st=\" \"\n",
    "a=['0','1','2','3','4','5','6','7','8','9']\n",
    "if s[0]=='_':\n",
    "    st= st + s[0]\n",
    "for i in s:\n",
    "    if i in a:\n",
    "        st= st+ i\n",
    "print(st)        "
   ]
  },
  {
   "cell_type": "markdown",
   "id": "7298409f",
   "metadata": {},
   "source": [
    "### Q13\n",
    "WAP to check whether a number is palindrome or not on following conditions.\n",
    "1. take input number\n",
    "2. add number and its reverse\n",
    "3. check that number is palindrome or not,if not then sum and its reverse"
   ]
  },
  {
   "cell_type": "code",
   "execution_count": 2,
   "id": "57ec14f6",
   "metadata": {},
   "outputs": [
    {
     "name": "stdout",
     "output_type": "stream",
     "text": [
      "enter a number43456\n",
      "Number is 108890\n",
      "Reverse Number is 098801\n",
      "Number is 207691\n",
      "Reverse Number is 196702\n",
      "Number is 404393\n",
      "Reverse Number is 393404\n",
      "Number is 797797\n",
      "Reverse Number is 797797\n",
      "Palidrome 797797\n"
     ]
    }
   ],
   "source": [
    "num1=input(\"enter a number\")\n",
    "num2=num1[::-1]\n",
    "num3=int(num1)+int(num2)\n",
    "print(\"Number is\", num3)\n",
    "print(\"Reverse Number is\",str(num3)[::-1] )\n",
    "while str(num3)!=str(num3)[::-1] :\n",
    "    num3=int(num3)+ int(str(num3)[::-1])\n",
    "    print(\"Number is\", num3)\n",
    "    print(\"Reverse Number is\",str(num3)[::-1] )\n",
    "print(\"Palidrome\",num3)        \n",
    "\n",
    "    "
   ]
  },
  {
   "cell_type": "markdown",
   "id": "fe43e2a8",
   "metadata": {},
   "source": [
    "###  Q14  Write a python function to find and display the five \n",
    "digit number in which the first digit is two more than \n",
    "the second,the second digit is two more than the third,\n",
    "the fourth digit is two less than the third, and the \n",
    "last digit is two more than\n",
    "the fourth.The sum of the third,fourth and fifth digits\n",
    "equals the first.The sum of all the digits is 19"
   ]
  },
  {
   "cell_type": "code",
   "execution_count": 23,
   "id": "de9f2709",
   "metadata": {},
   "outputs": [
    {
     "name": "stdout",
     "output_type": "stream",
     "text": [
      "Enter 5 digit number75313\n",
      "7\n",
      "num= 75313\n"
     ]
    }
   ],
   "source": [
    "num1= input(\"Enter 5 digit number\")\n",
    "print(num1[0])\n",
    "if int(num1[0])== int(num1[1])+2 and int(num1[1])==int(num1[2])+2 and int(num1[3])==int(num1[2])-2 and int(num1[4])== int(num1[3])+2 :\n",
    "                if int(num1[2])+ int(num1[3])+int(num1[4])== int(num1[0]):\n",
    "                                       sum=int(num1[0])+ int(num1[1])+int(num1[2])+int(num1[3])+int(num1[4])\n",
    "                                       if sum== 19:\n",
    "                                           print(\"num=\",num1)\n",
    "                                       else:  \n",
    "                                           print(\"Invalid no.3\")\n",
    "                else:                          \n",
    "                                       print(\"Invalid no.2\")\n",
    "else:                         \n",
    "    print(\"Invalid no.1\")                    \n",
    "    "
   ]
  }
 ],
 "metadata": {
  "kernelspec": {
   "display_name": "Python 3 (ipykernel)",
   "language": "python",
   "name": "python3"
  },
  "language_info": {
   "codemirror_mode": {
    "name": "ipython",
    "version": 3
   },
   "file_extension": ".py",
   "mimetype": "text/x-python",
   "name": "python",
   "nbconvert_exporter": "python",
   "pygments_lexer": "ipython3",
   "version": "3.9.7"
  }
 },
 "nbformat": 4,
 "nbformat_minor": 5
}
